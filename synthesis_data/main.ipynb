{
 "cells": [
  {
   "cell_type": "markdown",
   "metadata": {},
   "source": [
    "# Synthesis S4 (random 4)"
   ]
  },
  {
   "cell_type": "markdown",
   "metadata": {},
   "source": [
    "## 1. stitch frame"
   ]
  },
  {
   "cell_type": "code",
   "execution_count": null,
   "metadata": {},
   "outputs": [],
   "source": [
    "from utils import stitch_frames\n",
    "import os\n",
    "import random\n",
    "\n",
    "dataset_dir = '/mnt/data1/jiali/avsbench_data/Single-source/s4_data/visual_frames'\n",
    "\n",
    "for split in ['test', 'train', 'val']:\n",
    "    base_dir = os.path.join(dataset_dir, split)\n",
    "    entries = os.listdir(base_dir)\n",
    "    categories = [entry for entry in entries if '.DS_Store' not in entry]\n",
    "    for temp_cate in categories:\n",
    "        video_list = os.listdir(os.path.join(base_dir, temp_cate))\n",
    "        for temp_video in video_list:\n",
    "            input_video_path = os.path.join(base_dir, temp_cate, temp_video)\n",
    "\n",
    "            stitch_frames(base_dir, input_video_path, split, save_floder_name = '/avsbench_synthesis_visual_random4/', num_with_audio_and_mask=random.randint(1, 4))"
   ]
  },
  {
   "cell_type": "markdown",
   "metadata": {},
   "source": [
    "## 2. extract audio log-mel feature"
   ]
  },
  {
   "cell_type": "code",
   "execution_count": null,
   "metadata": {},
   "outputs": [],
   "source": [
    "import pickle\n",
    "import os\n",
    "from utils import extract_log_mel_features\n",
    "\n",
    "dataset_dir = '/mnt/data1/jiali/avsbench_synthesis_visual_random4/Single-source/s4_data/audio_wav'\n",
    "\n",
    "for split in ['test', 'train', 'val']:\n",
    "    base_dir = os.path.join(dataset_dir, split)\n",
    "    entries = os.listdir(base_dir)\n",
    "    categories = [entry for entry in entries if '.DS_Store' not in entry]\n",
    "    for temp_cate in categories:\n",
    "        print(split, temp_cate)\n",
    "        audio_list = os.listdir(os.path.join(base_dir, temp_cate))\n",
    "        for temp_audio in audio_list:\n",
    "            input_audio_path = os.path.join(base_dir, temp_cate, temp_audio)\n",
    "            log_mel_spectrogram = extract_log_mel_features(input_audio_path, n_mels=128, n_fft=2048, hop_length=512)\n",
    "            \n",
    "            # Create the directory for saving if it doesn't exist\n",
    "            save_path1 = input_audio_path.replace('/audio_wav/', '/audio_log_mel/')\n",
    "            save_path = save_path1.replace('.wav', '.pkl')\n",
    "            \n",
    "            # Save the features\n",
    "            with open(save_path, 'wb') as f:  # Changed 'w' to 'wb' for binary write\n",
    "                pickle.dump(log_mel_spectrogram, f)"
   ]
  },
  {
   "cell_type": "markdown",
   "metadata": {},
   "source": [
    "# Synthesis MS3 (random 4)"
   ]
  },
  {
   "cell_type": "code",
   "execution_count": 2,
   "metadata": {},
   "outputs": [
    {
     "ename": "FileNotFoundError",
     "evalue": "[Errno 2] No such file or directory: '/mnt/data1/jiali/avsbench_synthesis_visual_random4/Multi-sources/ms3_data/visual_frames/test'",
     "output_type": "error",
     "traceback": [
      "\u001b[0;31m---------------------------------------------------------------------------\u001b[0m",
      "\u001b[0;31mFileNotFoundError\u001b[0m                         Traceback (most recent call last)",
      "Cell \u001b[0;32mIn[2], line 9\u001b[0m\n\u001b[1;32m      7\u001b[0m \u001b[38;5;28;01mfor\u001b[39;00m split \u001b[38;5;129;01min\u001b[39;00m [\u001b[38;5;124m'\u001b[39m\u001b[38;5;124mtest\u001b[39m\u001b[38;5;124m'\u001b[39m, \u001b[38;5;124m'\u001b[39m\u001b[38;5;124mtrain\u001b[39m\u001b[38;5;124m'\u001b[39m, \u001b[38;5;124m'\u001b[39m\u001b[38;5;124mval\u001b[39m\u001b[38;5;124m'\u001b[39m]:\n\u001b[1;32m      8\u001b[0m     base_dir \u001b[38;5;241m=\u001b[39m os\u001b[38;5;241m.\u001b[39mpath\u001b[38;5;241m.\u001b[39mjoin(dataset_dir, split)\n\u001b[0;32m----> 9\u001b[0m     video_list \u001b[38;5;241m=\u001b[39m \u001b[43mos\u001b[49m\u001b[38;5;241;43m.\u001b[39;49m\u001b[43mlistdir\u001b[49m\u001b[43m(\u001b[49m\u001b[43mbase_dir\u001b[49m\u001b[43m)\u001b[49m\n\u001b[1;32m     10\u001b[0m     \u001b[38;5;28;01mfor\u001b[39;00m temp_video \u001b[38;5;129;01min\u001b[39;00m video_list:\n\u001b[1;32m     11\u001b[0m         input_video_path \u001b[38;5;241m=\u001b[39m os\u001b[38;5;241m.\u001b[39mpath\u001b[38;5;241m.\u001b[39mjoin(base_dir, temp_video)\n",
      "\u001b[0;31mFileNotFoundError\u001b[0m: [Errno 2] No such file or directory: '/mnt/data1/jiali/avsbench_synthesis_visual_random4/Multi-sources/ms3_data/visual_frames/test'"
     ]
    }
   ],
   "source": [
    "import os\n",
    "import random\n",
    "from utils import stitch_frames_ms3\n",
    "\n",
    "dataset_dir = '/mnt/data1/jiali/avsbench_synthesis_visual_random4/Multi-sources/ms3_data/visual_frames'\n",
    "\n",
    "for split in ['test', 'train', 'val']:\n",
    "    base_dir = os.path.join(dataset_dir, split)\n",
    "    video_list = os.listdir(base_dir)\n",
    "    for temp_video in video_list:\n",
    "        input_video_path = os.path.join(base_dir, temp_video)\n",
    "\n",
    "        stitch_frames_ms3(base_dir, input_video_path, split, save_floder_name = '/avsbench_synthesis_visual_random4/', num_with_audio_and_mask=random.randint(1, 4))"
   ]
  }
 ],
 "metadata": {
  "kernelspec": {
   "display_name": "avs",
   "language": "python",
   "name": "python3"
  },
  "language_info": {
   "codemirror_mode": {
    "name": "ipython",
    "version": 3
   },
   "file_extension": ".py",
   "mimetype": "text/x-python",
   "name": "python",
   "nbconvert_exporter": "python",
   "pygments_lexer": "ipython3",
   "version": "3.12.4"
  }
 },
 "nbformat": 4,
 "nbformat_minor": 2
}
