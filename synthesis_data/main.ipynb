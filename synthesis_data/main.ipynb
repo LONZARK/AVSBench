{
 "cells": [
  {
   "cell_type": "markdown",
   "metadata": {},
   "source": [
    "# Synthesis S4 (random 4)"
   ]
  },
  {
   "cell_type": "markdown",
   "metadata": {},
   "source": [
    "## 1. stitch frame"
   ]
  },
  {
   "cell_type": "code",
   "execution_count": null,
   "metadata": {},
   "outputs": [],
   "source": [
    "from utils import stitch_frames\n",
    "import os\n",
    "import random\n",
    "\n",
    "dataset_dir = '/mnt/data1/jiali/avsbench_data/Single-source/s4_data/visual_frames'\n",
    "\n",
    "for split in ['test', 'train', 'val']:\n",
    "    base_dir = os.path.join(dataset_dir, split)\n",
    "    entries = os.listdir(base_dir)\n",
    "    categories = [entry for entry in entries if '.DS_Store' not in entry]\n",
    "    for temp_cate in categories:\n",
    "        video_list = os.listdir(os.path.join(base_dir, temp_cate))\n",
    "        for temp_video in video_list:\n",
    "            input_video_path = os.path.join(base_dir, temp_cate, temp_video)\n",
    "\n",
    "            stitch_frames(base_dir, input_video_path, split, save_floder_name = '/avsbench_synthesis_visual_random4/', num_with_audio_and_mask=random.randint(1, 4))"
   ]
  },
  {
   "cell_type": "markdown",
   "metadata": {},
   "source": [
    "## 2. extract audio log-mel feature"
   ]
  },
  {
   "cell_type": "code",
   "execution_count": null,
   "metadata": {},
   "outputs": [],
   "source": [
    "import pickle\n",
    "import os\n",
    "from utils import extract_log_mel_features\n",
    "\n",
    "dataset_dir = '/mnt/data1/jiali/avsbench_synthesis_visual_random4/Single-source/s4_data/audio_wav'\n",
    "\n",
    "for split in ['test', 'train', 'val']:\n",
    "    base_dir = os.path.join(dataset_dir, split)\n",
    "    entries = os.listdir(base_dir)\n",
    "    categories = [entry for entry in entries if '.DS_Store' not in entry]\n",
    "    for temp_cate in categories:\n",
    "        print(split, temp_cate)\n",
    "        audio_list = os.listdir(os.path.join(base_dir, temp_cate))\n",
    "        for temp_audio in audio_list:\n",
    "            input_audio_path = os.path.join(base_dir, temp_cate, temp_audio)\n",
    "            log_mel_spectrogram = extract_log_mel_features(input_audio_path, n_mels=128, n_fft=2048, hop_length=512)\n",
    "            \n",
    "            # Create the directory for saving if it doesn't exist\n",
    "            save_path1 = input_audio_path.replace('/audio_wav/', '/audio_log_mel/')\n",
    "            save_path = save_path1.replace('.wav', '.pkl')\n",
    "            \n",
    "            # Save the features\n",
    "            with open(save_path, 'wb') as f:  # Changed 'w' to 'wb' for binary write\n",
    "                pickle.dump(log_mel_spectrogram, f)"
   ]
  },
  {
   "cell_type": "markdown",
   "metadata": {},
   "source": [
    "# Synthesis MS3 (random 4)"
   ]
  },
  {
   "cell_type": "markdown",
   "metadata": {},
   "source": [
    "## 1. stitch frame"
   ]
  },
  {
   "cell_type": "code",
   "execution_count": null,
   "metadata": {},
   "outputs": [],
   "source": [
    "import os\n",
    "import random\n",
    "from utils import stitch_frames_ms3\n",
    "import pandas as pd\n",
    "\n",
    "def get_split_from_video_id(csv_file, video_id):\n",
    "    # Read the CSV file into a DataFrame\n",
    "    df = pd.read_csv(csv_file)\n",
    "    \n",
    "    # Search for the row with the given video_id\n",
    "    row = df[df['video_id'] == video_id]\n",
    "    \n",
    "    # If the row is found, return the split value\n",
    "    if not row.empty:\n",
    "        return row['split'].values[0]\n",
    "    else:\n",
    "        return None\n",
    "\n",
    "\n",
    "base_dir = '/mnt/data1/jiali/avsbench_synthesis_visual_random4/Multi-sources/ms3_data/visual_frames'\n",
    "csv_file = '/mnt/data1/jiali/avsbench_synthesis_visual_random4/Multi-sources/ms3_meta_data.csv'\n",
    "\n",
    "video_list = os.listdir(base_dir)\n",
    "for temp_video in video_list:\n",
    "    input_video_path = os.path.join(base_dir, temp_video)\n",
    "    split = get_split_from_video_id(csv_file, temp_video) \n",
    "    stitch_frames_ms3(base_dir, input_video_path, split, csv_file, save_floder_name = '/avsbench_synthesis_visual_random4/',  num_with_audio_and_mask=random.randint(1, 4))"
   ]
  },
  {
   "cell_type": "markdown",
   "metadata": {},
   "source": [
    "## 2. extract audio log-mel feature"
   ]
  },
  {
   "cell_type": "code",
   "execution_count": null,
   "metadata": {},
   "outputs": [],
   "source": [
    "import pickle\n",
    "import os\n",
    "from utils import extract_log_mel_features\n",
    "\n",
    "dataset_dir = '/mnt/data1/jiali/avsbench_synthesis_visual_random4/Multi-sources/ms3_data/audio_wav'\n",
    "\n",
    "for split in ['test', 'train', 'val']:\n",
    "    base_dir = os.path.join(dataset_dir, split)\n",
    "    entries = os.listdir(base_dir)\n",
    "    categories = [entry for entry in entries if '.DS_Store' not in entry]\n",
    "    for temp_cate in categories:\n",
    "        print(split, temp_cate)\n",
    "        audio_list = os.listdir(os.path.join(base_dir, temp_cate))\n",
    "        for temp_audio in audio_list:\n",
    "            input_audio_path = os.path.join(base_dir, temp_cate, temp_audio)\n",
    "            log_mel_spectrogram = extract_log_mel_features(input_audio_path, n_mels=128, n_fft=2048, hop_length=512)\n",
    "            \n",
    "            # Create the directory for saving if it doesn't exist\n",
    "            save_path1 = input_audio_path.replace('/audio_wav/', '/audio_log_mel/')\n",
    "            save_path = save_path1.replace('.wav', '.pkl')\n",
    "            \n",
    "            # Save the features\n",
    "            with open(save_path, 'wb') as f:  # Changed 'w' to 'wb' for binary write\n",
    "                pickle.dump(log_mel_spectrogram, f)"
   ]
  }
 ],
 "metadata": {
  "kernelspec": {
   "display_name": "avs",
   "language": "python",
   "name": "python3"
  },
  "language_info": {
   "codemirror_mode": {
    "name": "ipython",
    "version": 3
   },
   "file_extension": ".py",
   "mimetype": "text/x-python",
   "name": "python",
   "nbconvert_exporter": "python",
   "pygments_lexer": "ipython3",
   "version": "3.12.4"
  }
 },
 "nbformat": 4,
 "nbformat_minor": 2
}
